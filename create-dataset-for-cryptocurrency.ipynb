{
 "cells": [
  {
   "cell_type": "raw",
   "id": "67f49a11",
   "metadata": {
    "_cell_guid": "b1076dfc-b9ad-4769-8c92-a6c4dae69d19",
    "_uuid": "8f2839f25d086af736a60e9eeb907d3b93b6e0e5",
    "papermill": {
     "duration": 0.003144,
     "end_time": "2025-08-31T17:08:58.118389",
     "exception": false,
     "start_time": "2025-08-31T17:08:58.115245",
     "status": "completed"
    },
    "tags": []
   },
   "source": []
  },
  {
   "cell_type": "code",
   "execution_count": 1,
   "id": "26ba7472",
   "metadata": {
    "execution": {
     "iopub.execute_input": "2025-08-31T17:08:58.125032Z",
     "iopub.status.busy": "2025-08-31T17:08:58.124632Z",
     "iopub.status.idle": "2025-08-31T17:09:01.148727Z",
     "shell.execute_reply": "2025-08-31T17:09:01.147283Z"
    },
    "papermill": {
     "duration": 3.030893,
     "end_time": "2025-08-31T17:09:01.151755",
     "exception": false,
     "start_time": "2025-08-31T17:08:58.120862",
     "status": "completed"
    },
    "tags": []
   },
   "outputs": [],
   "source": [
    "import requests\n",
    "import pandas as pd\n",
    "import os\n",
    "from tqdm import tqdm\n",
    "import datetime"
   ]
  },
  {
   "cell_type": "code",
   "execution_count": 2,
   "id": "fc8ea268",
   "metadata": {
    "execution": {
     "iopub.execute_input": "2025-08-31T17:09:01.160665Z",
     "iopub.status.busy": "2025-08-31T17:09:01.159250Z",
     "iopub.status.idle": "2025-08-31T17:09:01.166611Z",
     "shell.execute_reply": "2025-08-31T17:09:01.165617Z"
    },
    "papermill": {
     "duration": 0.012766,
     "end_time": "2025-08-31T17:09:01.168504",
     "exception": false,
     "start_time": "2025-08-31T17:09:01.155738",
     "status": "completed"
    },
    "tags": []
   },
   "outputs": [],
   "source": [
    "# ==============================\n",
    "# 📌 Config\n",
    "# ==============================\n",
    "SAVE_DIR = \"50_coins_crypto_1h_data_cryptocompare\"\n",
    "os.makedirs(SAVE_DIR, exist_ok=True)\n",
    "\n",
    "START_DATE = \"2020-01-01\"\n",
    "END_DATE = \"2025-08-29\"\n",
    "\n",
    "# convert to UNIX timestamps\n",
    "start_ts = int(datetime.datetime.strptime(START_DATE, \"%Y-%m-%d\").timestamp())\n",
    "end_ts = int(datetime.datetime.strptime(END_DATE, \"%Y-%m-%d\").timestamp())"
   ]
  },
  {
   "cell_type": "code",
   "execution_count": 3,
   "id": "36fcf3c9",
   "metadata": {
    "execution": {
     "iopub.execute_input": "2025-08-31T17:09:01.176442Z",
     "iopub.status.busy": "2025-08-31T17:09:01.176123Z",
     "iopub.status.idle": "2025-08-31T17:09:01.184036Z",
     "shell.execute_reply": "2025-08-31T17:09:01.182832Z"
    },
    "papermill": {
     "duration": 0.013115,
     "end_time": "2025-08-31T17:09:01.185975",
     "exception": false,
     "start_time": "2025-08-31T17:09:01.172860",
     "status": "completed"
    },
    "tags": []
   },
   "outputs": [],
   "source": [
    "# ==============================\n",
    "# 📌 50 Coins List (CryptoCompare symbols)\n",
    "# ==============================\n",
    "coins = [\n",
    "    \"BTC\",\"ETH\",\"BNB\",\"SOL\",\"XRP\",\"ADA\",\"DOGE\",\"MATIC\",\"DOT\",\"LTC\",\n",
    "    \"TRX\",\"LINK\",\"ATOM\",\"XLM\",\"ETC\",\"FIL\",\"ICP\",\"APT\",\"ARB\",\"SUI\",\n",
    "    \"OP\",\"NEAR\",\"VET\",\"HBAR\",\"AAVE\",\"GRT\",\"ALGO\",\"QNT\",\"EGLD\",\"SAND\",\n",
    "    \"MANA\",\"AXS\",\"THETA\",\"FTM\",\"FLOW\",\"RUNE\",\"KAVA\",\"CHZ\",\"DYDX\",\"IMX\",\n",
    "    \"1INCH\",\"ENJ\",\"CRV\",\"ZIL\",\"WAVES\",\"KSM\",\"DASH\",\"BAT\",\"ZRX\",\"HOT\"\n",
    "]\n"
   ]
  },
  {
   "cell_type": "code",
   "execution_count": 4,
   "id": "db015732",
   "metadata": {
    "execution": {
     "iopub.execute_input": "2025-08-31T17:09:01.192217Z",
     "iopub.status.busy": "2025-08-31T17:09:01.191904Z",
     "iopub.status.idle": "2025-08-31T17:09:01.200223Z",
     "shell.execute_reply": "2025-08-31T17:09:01.198925Z"
    },
    "papermill": {
     "duration": 0.013625,
     "end_time": "2025-08-31T17:09:01.201851",
     "exception": false,
     "start_time": "2025-08-31T17:09:01.188226",
     "status": "completed"
    },
    "tags": []
   },
   "outputs": [],
   "source": [
    "# ==============================\n",
    "# 📌 Function to fetch OHLCV from CryptoCompare\n",
    "# ==============================\n",
    "def get_cryptocompare_data(symbol, currency=\"USDT\", limit=2000):\n",
    "    url = f\"https://min-api.cryptocompare.com/data/v2/histohour\"\n",
    "    params = {\n",
    "        \"fsym\": symbol,\n",
    "        \"tsym\": currency,\n",
    "        \"limit\": limit,       # max 2000 hours per request\n",
    "        \"toTs\": end_ts\n",
    "    }\n",
    "    \n",
    "    all_data = []\n",
    "    ts = end_ts\n",
    "    while ts > start_ts:\n",
    "        params[\"toTs\"] = ts\n",
    "        r = requests.get(url, params=params).json()\n",
    "        \n",
    "        if \"Data\" not in r or \"Data\" not in r[\"Data\"]:\n",
    "            break\n",
    "        \n",
    "        data = r[\"Data\"][\"Data\"]\n",
    "        if not data:\n",
    "            break\n",
    "        \n",
    "        all_data.extend(data)\n",
    "        ts = data[0][\"time\"] - 1  # move backward\n",
    "    \n",
    "    df = pd.DataFrame(all_data)\n",
    "    if df.empty:\n",
    "        return None\n",
    "    \n",
    "    df[\"time\"] = pd.to_datetime(df[\"time\"], unit=\"s\")\n",
    "    df = df.rename(columns={\n",
    "        \"time\": \"timestamp\",\n",
    "        \"open\": \"open\",\n",
    "        \"high\": \"high\",\n",
    "        \"low\": \"low\",\n",
    "        \"close\": \"close\",\n",
    "        \"volumefrom\": \"volume_from\",\n",
    "        \"volumeto\": \"volume_to\"\n",
    "    })\n",
    "    df = df[[\"timestamp\",\"open\",\"high\",\"low\",\"close\",\"volume_from\",\"volume_to\"]]\n",
    "    \n",
    "    return df"
   ]
  },
  {
   "cell_type": "code",
   "execution_count": 5,
   "id": "3f5cdc73",
   "metadata": {
    "execution": {
     "iopub.execute_input": "2025-08-31T17:09:01.207719Z",
     "iopub.status.busy": "2025-08-31T17:09:01.207253Z",
     "iopub.status.idle": "2025-08-31T18:15:32.503145Z",
     "shell.execute_reply": "2025-08-31T18:15:32.501756Z"
    },
    "papermill": {
     "duration": 3991.308562,
     "end_time": "2025-08-31T18:15:32.512723",
     "exception": false,
     "start_time": "2025-08-31T17:09:01.204161",
     "status": "completed"
    },
    "tags": []
   },
   "outputs": [
    {
     "name": "stderr",
     "output_type": "stream",
     "text": [
      "Downloading 1H Data:   2%|▏         | 1/50 [00:42<34:22, 42.09s/it]"
     ]
    },
    {
     "name": "stdout",
     "output_type": "stream",
     "text": [
      "✅ Saved BTCUSDT\n"
     ]
    },
    {
     "name": "stderr",
     "output_type": "stream",
     "text": [
      "Downloading 1H Data:   4%|▍         | 2/50 [01:25<34:31, 43.15s/it]"
     ]
    },
    {
     "name": "stdout",
     "output_type": "stream",
     "text": [
      "✅ Saved ETHUSDT\n"
     ]
    },
    {
     "name": "stderr",
     "output_type": "stream",
     "text": [
      "Downloading 1H Data:   6%|▌         | 3/50 [02:53<49:50, 63.63s/it]"
     ]
    },
    {
     "name": "stdout",
     "output_type": "stream",
     "text": [
      "✅ Saved BNBUSDT\n"
     ]
    },
    {
     "name": "stderr",
     "output_type": "stream",
     "text": [
      "Downloading 1H Data:   8%|▊         | 4/50 [04:09<52:20, 68.27s/it]"
     ]
    },
    {
     "name": "stdout",
     "output_type": "stream",
     "text": [
      "✅ Saved SOLUSDT\n"
     ]
    },
    {
     "name": "stderr",
     "output_type": "stream",
     "text": [
      "Downloading 1H Data:  10%|█         | 5/50 [05:33<55:33, 74.07s/it]"
     ]
    },
    {
     "name": "stdout",
     "output_type": "stream",
     "text": [
      "✅ Saved XRPUSDT\n"
     ]
    },
    {
     "name": "stderr",
     "output_type": "stream",
     "text": [
      "Downloading 1H Data:  12%|█▏        | 6/50 [07:00<57:32, 78.48s/it]"
     ]
    },
    {
     "name": "stdout",
     "output_type": "stream",
     "text": [
      "✅ Saved ADAUSDT\n"
     ]
    },
    {
     "name": "stderr",
     "output_type": "stream",
     "text": [
      "Downloading 1H Data:  14%|█▍        | 7/50 [08:11<54:28, 76.01s/it]"
     ]
    },
    {
     "name": "stdout",
     "output_type": "stream",
     "text": [
      "✅ Saved DOGEUSDT\n"
     ]
    },
    {
     "name": "stderr",
     "output_type": "stream",
     "text": [
      "Downloading 1H Data:  16%|█▌        | 8/50 [09:28<53:27, 76.37s/it]"
     ]
    },
    {
     "name": "stdout",
     "output_type": "stream",
     "text": [
      "✅ Saved MATICUSDT\n"
     ]
    },
    {
     "name": "stderr",
     "output_type": "stream",
     "text": [
      "Downloading 1H Data:  18%|█▊        | 9/50 [10:50<53:20, 78.06s/it]"
     ]
    },
    {
     "name": "stdout",
     "output_type": "stream",
     "text": [
      "✅ Saved DOTUSDT\n"
     ]
    },
    {
     "name": "stderr",
     "output_type": "stream",
     "text": [
      "Downloading 1H Data:  20%|██        | 10/50 [12:11<52:43, 79.08s/it]"
     ]
    },
    {
     "name": "stdout",
     "output_type": "stream",
     "text": [
      "✅ Saved LTCUSDT\n"
     ]
    },
    {
     "name": "stderr",
     "output_type": "stream",
     "text": [
      "Downloading 1H Data:  22%|██▏       | 11/50 [13:32<51:42, 79.55s/it]"
     ]
    },
    {
     "name": "stdout",
     "output_type": "stream",
     "text": [
      "✅ Saved TRXUSDT\n"
     ]
    },
    {
     "name": "stderr",
     "output_type": "stream",
     "text": [
      "Downloading 1H Data:  24%|██▍       | 12/50 [14:48<49:38, 78.37s/it]"
     ]
    },
    {
     "name": "stdout",
     "output_type": "stream",
     "text": [
      "✅ Saved LINKUSDT\n"
     ]
    },
    {
     "name": "stderr",
     "output_type": "stream",
     "text": [
      "Downloading 1H Data:  26%|██▌       | 13/50 [16:04<47:52, 77.64s/it]"
     ]
    },
    {
     "name": "stdout",
     "output_type": "stream",
     "text": [
      "✅ Saved ATOMUSDT\n"
     ]
    },
    {
     "name": "stderr",
     "output_type": "stream",
     "text": [
      "Downloading 1H Data:  28%|██▊       | 14/50 [17:30<48:11, 80.31s/it]"
     ]
    },
    {
     "name": "stdout",
     "output_type": "stream",
     "text": [
      "✅ Saved XLMUSDT\n"
     ]
    },
    {
     "name": "stderr",
     "output_type": "stream",
     "text": [
      "Downloading 1H Data:  30%|███       | 15/50 [18:45<45:56, 78.76s/it]"
     ]
    },
    {
     "name": "stdout",
     "output_type": "stream",
     "text": [
      "✅ Saved ETCUSDT\n"
     ]
    },
    {
     "name": "stderr",
     "output_type": "stream",
     "text": [
      "Downloading 1H Data:  32%|███▏      | 16/50 [20:09<45:27, 80.21s/it]"
     ]
    },
    {
     "name": "stdout",
     "output_type": "stream",
     "text": [
      "✅ Saved FILUSDT\n"
     ]
    },
    {
     "name": "stderr",
     "output_type": "stream",
     "text": [
      "Downloading 1H Data:  34%|███▍      | 17/50 [21:34<44:50, 81.53s/it]"
     ]
    },
    {
     "name": "stdout",
     "output_type": "stream",
     "text": [
      "✅ Saved ICPUSDT\n"
     ]
    },
    {
     "name": "stderr",
     "output_type": "stream",
     "text": [
      "Downloading 1H Data:  36%|███▌      | 18/50 [22:52<42:58, 80.57s/it]"
     ]
    },
    {
     "name": "stdout",
     "output_type": "stream",
     "text": [
      "✅ Saved APTUSDT\n"
     ]
    },
    {
     "name": "stderr",
     "output_type": "stream",
     "text": [
      "Downloading 1H Data:  38%|███▊      | 19/50 [24:04<40:20, 78.09s/it]"
     ]
    },
    {
     "name": "stdout",
     "output_type": "stream",
     "text": [
      "✅ Saved ARBUSDT\n"
     ]
    },
    {
     "name": "stderr",
     "output_type": "stream",
     "text": [
      "Downloading 1H Data:  40%|████      | 20/50 [25:13<37:39, 75.30s/it]"
     ]
    },
    {
     "name": "stdout",
     "output_type": "stream",
     "text": [
      "✅ Saved SUIUSDT\n"
     ]
    },
    {
     "name": "stderr",
     "output_type": "stream",
     "text": [
      "Downloading 1H Data:  42%|████▏     | 21/50 [26:32<36:52, 76.29s/it]"
     ]
    },
    {
     "name": "stdout",
     "output_type": "stream",
     "text": [
      "✅ Saved OPUSDT\n"
     ]
    },
    {
     "name": "stderr",
     "output_type": "stream",
     "text": [
      "Downloading 1H Data:  44%|████▍     | 22/50 [27:52<36:07, 77.43s/it]"
     ]
    },
    {
     "name": "stdout",
     "output_type": "stream",
     "text": [
      "✅ Saved NEARUSDT\n"
     ]
    },
    {
     "name": "stderr",
     "output_type": "stream",
     "text": [
      "Downloading 1H Data:  46%|████▌     | 23/50 [29:01<33:44, 75.00s/it]"
     ]
    },
    {
     "name": "stdout",
     "output_type": "stream",
     "text": [
      "✅ Saved VETUSDT\n"
     ]
    },
    {
     "name": "stderr",
     "output_type": "stream",
     "text": [
      "Downloading 1H Data:  48%|████▊     | 24/50 [30:13<32:10, 74.25s/it]"
     ]
    },
    {
     "name": "stdout",
     "output_type": "stream",
     "text": [
      "✅ Saved HBARUSDT\n"
     ]
    },
    {
     "name": "stderr",
     "output_type": "stream",
     "text": [
      "Downloading 1H Data:  50%|█████     | 25/50 [31:38<32:13, 77.34s/it]"
     ]
    },
    {
     "name": "stdout",
     "output_type": "stream",
     "text": [
      "✅ Saved AAVEUSDT\n"
     ]
    },
    {
     "name": "stderr",
     "output_type": "stream",
     "text": [
      "Downloading 1H Data:  52%|█████▏    | 26/50 [32:54<30:44, 76.87s/it]"
     ]
    },
    {
     "name": "stdout",
     "output_type": "stream",
     "text": [
      "✅ Saved GRTUSDT\n"
     ]
    },
    {
     "name": "stderr",
     "output_type": "stream",
     "text": [
      "Downloading 1H Data:  54%|█████▍    | 27/50 [34:07<29:03, 75.79s/it]"
     ]
    },
    {
     "name": "stdout",
     "output_type": "stream",
     "text": [
      "✅ Saved ALGOUSDT\n"
     ]
    },
    {
     "name": "stderr",
     "output_type": "stream",
     "text": [
      "Downloading 1H Data:  56%|█████▌    | 28/50 [35:36<29:14, 79.74s/it]"
     ]
    },
    {
     "name": "stdout",
     "output_type": "stream",
     "text": [
      "✅ Saved QNTUSDT\n"
     ]
    },
    {
     "name": "stderr",
     "output_type": "stream",
     "text": [
      "Downloading 1H Data:  58%|█████▊    | 29/50 [37:14<29:50, 85.25s/it]"
     ]
    },
    {
     "name": "stdout",
     "output_type": "stream",
     "text": [
      "✅ Saved EGLDUSDT\n"
     ]
    },
    {
     "name": "stderr",
     "output_type": "stream",
     "text": [
      "Downloading 1H Data:  60%|██████    | 30/50 [38:23<26:44, 80.22s/it]"
     ]
    },
    {
     "name": "stdout",
     "output_type": "stream",
     "text": [
      "✅ Saved SANDUSDT\n"
     ]
    },
    {
     "name": "stderr",
     "output_type": "stream",
     "text": [
      "Downloading 1H Data:  62%|██████▏   | 31/50 [39:50<26:07, 82.47s/it]"
     ]
    },
    {
     "name": "stdout",
     "output_type": "stream",
     "text": [
      "✅ Saved MANAUSDT\n"
     ]
    },
    {
     "name": "stderr",
     "output_type": "stream",
     "text": [
      "Downloading 1H Data:  64%|██████▍   | 32/50 [41:09<24:25, 81.43s/it]"
     ]
    },
    {
     "name": "stdout",
     "output_type": "stream",
     "text": [
      "✅ Saved AXSUSDT\n"
     ]
    },
    {
     "name": "stderr",
     "output_type": "stream",
     "text": [
      "Downloading 1H Data:  66%|██████▌   | 33/50 [42:50<24:41, 87.17s/it]"
     ]
    },
    {
     "name": "stdout",
     "output_type": "stream",
     "text": [
      "✅ Saved THETAUSDT\n"
     ]
    },
    {
     "name": "stderr",
     "output_type": "stream",
     "text": [
      "Downloading 1H Data:  68%|██████▊   | 34/50 [44:11<22:43, 85.24s/it]"
     ]
    },
    {
     "name": "stdout",
     "output_type": "stream",
     "text": [
      "✅ Saved FTMUSDT\n"
     ]
    },
    {
     "name": "stderr",
     "output_type": "stream",
     "text": [
      "Downloading 1H Data:  70%|███████   | 35/50 [45:27<20:39, 82.64s/it]"
     ]
    },
    {
     "name": "stdout",
     "output_type": "stream",
     "text": [
      "✅ Saved FLOWUSDT\n"
     ]
    },
    {
     "name": "stderr",
     "output_type": "stream",
     "text": [
      "Downloading 1H Data:  72%|███████▏  | 36/50 [46:54<19:32, 83.77s/it]"
     ]
    },
    {
     "name": "stdout",
     "output_type": "stream",
     "text": [
      "✅ Saved RUNEUSDT\n"
     ]
    },
    {
     "name": "stderr",
     "output_type": "stream",
     "text": [
      "Downloading 1H Data:  74%|███████▍  | 37/50 [48:10<17:39, 81.48s/it]"
     ]
    },
    {
     "name": "stdout",
     "output_type": "stream",
     "text": [
      "✅ Saved KAVAUSDT\n"
     ]
    },
    {
     "name": "stderr",
     "output_type": "stream",
     "text": [
      "Downloading 1H Data:  76%|███████▌  | 38/50 [49:22<15:45, 78.82s/it]"
     ]
    },
    {
     "name": "stdout",
     "output_type": "stream",
     "text": [
      "✅ Saved CHZUSDT\n"
     ]
    },
    {
     "name": "stderr",
     "output_type": "stream",
     "text": [
      "Downloading 1H Data:  78%|███████▊  | 39/50 [50:38<14:17, 77.95s/it]"
     ]
    },
    {
     "name": "stdout",
     "output_type": "stream",
     "text": [
      "✅ Saved DYDXUSDT\n"
     ]
    },
    {
     "name": "stderr",
     "output_type": "stream",
     "text": [
      "Downloading 1H Data:  80%|████████  | 40/50 [52:00<13:11, 79.16s/it]"
     ]
    },
    {
     "name": "stdout",
     "output_type": "stream",
     "text": [
      "✅ Saved IMXUSDT\n"
     ]
    },
    {
     "name": "stderr",
     "output_type": "stream",
     "text": [
      "Downloading 1H Data:  82%|████████▏ | 41/50 [53:40<12:47, 85.32s/it]"
     ]
    },
    {
     "name": "stdout",
     "output_type": "stream",
     "text": [
      "✅ Saved 1INCHUSDT\n"
     ]
    },
    {
     "name": "stderr",
     "output_type": "stream",
     "text": [
      "Downloading 1H Data:  84%|████████▍ | 42/50 [55:08<11:28, 86.12s/it]"
     ]
    },
    {
     "name": "stdout",
     "output_type": "stream",
     "text": [
      "✅ Saved ENJUSDT\n"
     ]
    },
    {
     "name": "stderr",
     "output_type": "stream",
     "text": [
      "Downloading 1H Data:  86%|████████▌ | 43/50 [56:28<09:50, 84.30s/it]"
     ]
    },
    {
     "name": "stdout",
     "output_type": "stream",
     "text": [
      "✅ Saved CRVUSDT\n"
     ]
    },
    {
     "name": "stderr",
     "output_type": "stream",
     "text": [
      "Downloading 1H Data:  88%|████████▊ | 44/50 [58:17<09:09, 91.66s/it]"
     ]
    },
    {
     "name": "stdout",
     "output_type": "stream",
     "text": [
      "✅ Saved ZILUSDT\n"
     ]
    },
    {
     "name": "stderr",
     "output_type": "stream",
     "text": [
      "Downloading 1H Data:  90%|█████████ | 45/50 [59:30<07:10, 86.04s/it]"
     ]
    },
    {
     "name": "stdout",
     "output_type": "stream",
     "text": [
      "✅ Saved WAVESUSDT\n"
     ]
    },
    {
     "name": "stderr",
     "output_type": "stream",
     "text": [
      "Downloading 1H Data:  92%|█████████▏| 46/50 [1:00:58<05:46, 86.67s/it]"
     ]
    },
    {
     "name": "stdout",
     "output_type": "stream",
     "text": [
      "✅ Saved KSMUSDT\n"
     ]
    },
    {
     "name": "stderr",
     "output_type": "stream",
     "text": [
      "Downloading 1H Data:  94%|█████████▍| 47/50 [1:02:26<04:20, 86.98s/it]"
     ]
    },
    {
     "name": "stdout",
     "output_type": "stream",
     "text": [
      "✅ Saved DASHUSDT\n"
     ]
    },
    {
     "name": "stderr",
     "output_type": "stream",
     "text": [
      "Downloading 1H Data:  96%|█████████▌| 48/50 [1:03:43<02:47, 83.95s/it]"
     ]
    },
    {
     "name": "stdout",
     "output_type": "stream",
     "text": [
      "✅ Saved BATUSDT\n"
     ]
    },
    {
     "name": "stderr",
     "output_type": "stream",
     "text": [
      "Downloading 1H Data:  98%|█████████▊| 49/50 [1:05:14<01:26, 86.10s/it]"
     ]
    },
    {
     "name": "stdout",
     "output_type": "stream",
     "text": [
      "✅ Saved ZRXUSDT\n"
     ]
    },
    {
     "name": "stderr",
     "output_type": "stream",
     "text": [
      "Downloading 1H Data: 100%|██████████| 50/50 [1:06:31<00:00, 79.83s/it]"
     ]
    },
    {
     "name": "stdout",
     "output_type": "stream",
     "text": [
      "✅ Saved HOTUSDT\n",
      "🎉 All 50 coins 1h data downloaded successfully from CryptoCompare!\n"
     ]
    },
    {
     "name": "stderr",
     "output_type": "stream",
     "text": [
      "\n"
     ]
    }
   ],
   "source": [
    "# ==============================\n",
    "# 📌 Loop for All Coins\n",
    "# ==============================\n",
    "for coin in tqdm(coins, desc=\"Downloading 1H Data\"):\n",
    "    try:\n",
    "        df = get_cryptocompare_data(coin, \"USDT\")\n",
    "        if df is not None:\n",
    "            save_path = os.path.join(SAVE_DIR, f\"{coin}USDT_1h.csv\")\n",
    "            df.to_csv(save_path, index=False)\n",
    "            print(f\"✅ Saved {coin}USDT\")\n",
    "        else:\n",
    "            print(f\"⚠️ No data for {coin}\")\n",
    "    except Exception as e:\n",
    "        print(f\"❌ Error {coin}: {e}\")\n",
    "\n",
    "print(\"🎉 All 50 coins 1h data downloaded successfully from CryptoCompare!\")"
   ]
  },
  {
   "cell_type": "code",
   "execution_count": null,
   "id": "0cb30e81",
   "metadata": {
    "papermill": {
     "duration": 0.006764,
     "end_time": "2025-08-31T18:15:32.526965",
     "exception": false,
     "start_time": "2025-08-31T18:15:32.520201",
     "status": "completed"
    },
    "tags": []
   },
   "outputs": [],
   "source": []
  }
 ],
 "metadata": {
  "kaggle": {
   "accelerator": "none",
   "dataSources": [],
   "dockerImageVersionId": 31089,
   "isGpuEnabled": false,
   "isInternetEnabled": true,
   "language": "python",
   "sourceType": "notebook"
  },
  "kernelspec": {
   "display_name": "Python 3",
   "language": "python",
   "name": "python3"
  },
  "language_info": {
   "codemirror_mode": {
    "name": "ipython",
    "version": 3
   },
   "file_extension": ".py",
   "mimetype": "text/x-python",
   "name": "python",
   "nbconvert_exporter": "python",
   "pygments_lexer": "ipython3",
   "version": "3.11.13"
  },
  "papermill": {
   "default_parameters": {},
   "duration": 4002.548939,
   "end_time": "2025-08-31T18:15:33.164156",
   "environment_variables": {},
   "exception": null,
   "input_path": "__notebook__.ipynb",
   "output_path": "__notebook__.ipynb",
   "parameters": {},
   "start_time": "2025-08-31T17:08:50.615217",
   "version": "2.6.0"
  }
 },
 "nbformat": 4,
 "nbformat_minor": 5
}
